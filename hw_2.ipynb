{
 "cells": [
  {
   "cell_type": "code",
   "execution_count": null,
   "metadata": {},
   "outputs": [],
   "source": [
    "%matplotlib inline\n",
    "import numpy as np\n",
    "import matplotlib.pyplot as plt"
   ]
  },
  {
   "cell_type": "code",
   "execution_count": null,
   "metadata": {},
   "outputs": [],
   "source": [
    "x=np.arange(0,1000)/1000*2*np.pi\n",
    "y=5.5*np.cos(2*x)+5.5\n",
    "a=0.02*np.exp(x)\n",
    "b=0.25*x**2+0.1*np.sin(10.0*x)\n",
    "\n",
    "fig=plt.figure(figsize=(7,7))\n",
    "\n",
    "plt.plot(x,y)\n",
    "plt.plot(x,a)\n",
    "plt.plot(x,b)\n",
    "plt.xlim(0,2*np.pi)\n",
    "plt.ylim(-1,10)\n",
    "plt.xlabel('Time in ASTR/EART 119')\n",
    "plt.ylabel('Measures of Awesomeness')\n",
    "plt.show()"
   ]
  },
  {
   "cell_type": "code",
   "execution_count": null,
   "metadata": {},
   "outputs": [],
   "source": []
  }
 ],
 "metadata": {
  "kernelspec": {
   "display_name": "Python 3",
   "language": "python",
   "name": "python3"
  },
  "language_info": {
   "codemirror_mode": {
    "name": "ipython",
    "version": 3
   },
   "file_extension": ".py",
   "mimetype": "text/x-python",
   "name": "python",
   "nbconvert_exporter": "python",
   "pygments_lexer": "ipython3",
   "version": "3.6.5"
  }
 },
 "nbformat": 4,
 "nbformat_minor": 2
}
